{
 "cells": [
  {
   "cell_type": "code",
   "execution_count": null,
   "id": "597cdfc2",
   "metadata": {},
   "outputs": [],
   "source": [
    "import pandas as pd\n",
    "import matplotlib.pyplot as plt\n",
    "import seaborn as sns\n",
    "\n",
    "plt.style.use('seaborn-v0_8')\n",
    "from pathlib import Path\n",
    "\n",
    "data_dir = Path(\"data/processed\")\n",
    "eval_dir = Path(\"results/evaluation\")\n",
    "eval_dir.mkdir(parents=True, exist_ok=True)\n"
   ]
  },
  {
   "cell_type": "code",
   "execution_count": null,
   "id": "83c75b42",
   "metadata": {},
   "outputs": [],
   "source": [
    "# Load performance metrics summary generated from modelling.ipynb\n",
    "metrics_summary = pd.read_csv(eval_dir / \"model_performance_summary.csv\")\n",
    "\n",
    "print(\"Loaded model metrics summary:\")\n",
    "metrics_summary\n"
   ]
  },
  {
   "cell_type": "code",
   "execution_count": null,
   "id": "159ccef1",
   "metadata": {},
   "outputs": [],
   "source": [
    "plt.figure(figsize=(8,5))\n",
    "sns.barplot(x=\"Model\", y=\"Accuracy\", data=metrics_summary)\n",
    "plt.title(\"Model Accuracy Comparison\")\n",
    "plt.ylabel(\"Accuracy\")\n",
    "plt.show()\n",
    "\n",
    "plt.figure(figsize=(8,5))\n",
    "sns.barplot(x=\"Model\", y=\"ROC_AUC\", data=metrics_summary)\n",
    "plt.title(\"Model ROC-AUC Comparison\")\n",
    "plt.ylabel(\"ROC-AUC\")\n",
    "plt.show()\n"
   ]
  },
  {
   "cell_type": "code",
   "execution_count": null,
   "id": "f68abde4",
   "metadata": {},
   "outputs": [],
   "source": [
    "# Optional: Load saved confusion matrices from modelling.ipynb if saved\n",
    "import joblib\n",
    "\n",
    "cms = joblib.load(eval_dir / \"confusion_matrices.joblib\")\n",
    "\n",
    "for model_name, cm in cms.items():\n",
    "    plt.figure(figsize=(5,4))\n",
    "    sns.heatmap(cm, annot=True, fmt='d', cmap='Blues', cbar=False,\n",
    "                xticklabels=[\"Pred Dismiss\", \"Pred Report\"],\n",
    "                yticklabels=[\"True Dismiss\", \"True Report\"])\n",
    "    plt.title(f\"{model_name} Confusion Matrix\")\n",
    "    plt.show()\n"
   ]
  },
  {
   "cell_type": "code",
   "execution_count": null,
   "id": "9dc78188",
   "metadata": {},
   "outputs": [],
   "source": [
    "print(\"Evaluation Insights:\")\n",
    "print(\"- Highlight the best performing model based on ROC-AUC and Accuracy.\")\n",
    "print(\"- Identify models with too many false negatives (missed suspicious activities).\")\n",
    "print(\"- Suggest threshold adjustments if needed for imbalanced classes.\")\n",
    "print(\"- Recommend next steps for deployment or further tuning.\")\n"
   ]
  }
 ],
 "metadata": {
  "kernelspec": {
   "display_name": "universal_env",
   "language": "python",
   "name": "python3"
  },
  "language_info": {
   "name": "python",
   "version": "3.10.0"
  }
 },
 "nbformat": 4,
 "nbformat_minor": 5
}
